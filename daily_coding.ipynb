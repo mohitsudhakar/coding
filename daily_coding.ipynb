{
 "cells": [
  {
   "cell_type": "code",
   "execution_count": 41,
   "metadata": {},
   "outputs": [],
   "source": [
    "import collections\n",
    "\n",
    "# Two sum\n",
    "def p1(nums, k):\n",
    "    # use dic to store sum - nums[i]\n",
    "    dic = {}\n",
    "    for n in nums:\n",
    "        if k-n in dic:\n",
    "            return True\n",
    "        dic[n] = 1\n",
    "    return False"
   ]
  },
  {
   "cell_type": "code",
   "execution_count": 8,
   "metadata": {
    "pycharm": {
     "name": "#%%\n"
    }
   },
   "outputs": [],
   "source": [
    "# Product of all except i\n",
    "def p2(nums):\n",
    "    # calc left and right products\n",
    "    # then multiply at each index\n",
    "\n",
    "    left, right = [1], [1]\n",
    "\n",
    "    for i in range(1, len(nums)):\n",
    "        prev = left[-1]\n",
    "        left.append(prev*nums[i-1])\n",
    "\n",
    "    for i in range(len(nums)-2, -1,-1):\n",
    "        prev = right[0]\n",
    "        right.insert(0, prev*nums[i+1])\n",
    "\n",
    "    prod = []\n",
    "    for i in range(len(nums)):\n",
    "        prod.append(left[i]*right[i])\n",
    "\n",
    "    return prod"
   ]
  },
  {
   "cell_type": "code",
   "execution_count": 14,
   "metadata": {
    "pycharm": {
     "name": "#%%\n"
    }
   },
   "outputs": [],
   "source": [
    "# Serialize and Deserialize a Binary Tree\n",
    "class Node:\n",
    "    def __init__(self, val, left=None, right=None):\n",
    "        self.val = val\n",
    "        self.left = left\n",
    "        self.right = right\n",
    "\n",
    "def serialize(root):\n",
    "\n",
    "    arr = []\n",
    "    queue = [root]\n",
    "    while queue:\n",
    "        level = []\n",
    "        while queue:\n",
    "            node = queue.pop(0)\n",
    "            if node:\n",
    "                level.append(node)\n",
    "                arr.append(str(node.val))\n",
    "            else:\n",
    "                arr.append('None')\n",
    "        for l in level:\n",
    "            queue.append(l.left)\n",
    "            queue.append(l.right)\n",
    "\n",
    "    return ' '.join(arr)\n",
    "\n",
    "def deserialize(s):\n",
    "    # for all i, 2i+2 and 2i+2 are children\n",
    "\n",
    "    s = s.split(' ')\n",
    "    root = Node(s[0])\n",
    "    queue = [root]\n",
    "    i = 0\n",
    "    while queue and i < len(s):\n",
    "        node = queue.pop(0)\n",
    "        if 2*i+1 < len(s):\n",
    "            if s[2*i+1] != 'None':\n",
    "                node.left = Node(s[2*i+1])\n",
    "                queue.append(node.left)\n",
    "        if 2*i+2 < len(s):\n",
    "            if s[2*i+2] != 'None':\n",
    "                node.right = Node(s[2*i+2])\n",
    "                queue.append(node.right)\n",
    "        i += 1\n",
    "    return root\n"
   ]
  },
  {
   "cell_type": "code",
   "execution_count": 31,
   "metadata": {
    "pycharm": {
     "name": "#%%\n"
    }
   },
   "outputs": [],
   "source": [
    "# First missing positive in array\n",
    "def p4(nums):\n",
    "\n",
    "    i = 0\n",
    "    while i < len(nums):\n",
    "\n",
    "        while i < len(nums) and 1 <= nums[i] <= len(nums) and nums[i] != nums[nums[i]-1]:\n",
    "            nums[nums[i]-1], nums[i] = nums[i], nums[nums[i]-1]\n",
    "\n",
    "        i += 1\n",
    "\n",
    "    for i, n in enumerate(nums):\n",
    "        if i+1 != n:\n",
    "            return i+1\n",
    "\n",
    "    return len(nums)+1\n",
    "\n",
    "assert p4([3,-2,-1,1]) == 2"
   ]
  },
  {
   "cell_type": "code",
   "execution_count": 32,
   "metadata": {
    "pycharm": {
     "name": "#%%\n"
    }
   },
   "outputs": [],
   "source": [
    "# Construct pair\n",
    "def p5(a,b):\n",
    "\n",
    "    def cons(a,b):\n",
    "        return lambda f: f(a,b)\n",
    "\n",
    "    def car(pair):\n",
    "        z = lambda a,b: a\n",
    "        return pair(z)\n",
    "\n",
    "    def cdr(pair):\n",
    "        z = lambda a,b: b\n",
    "        return pair(z)\n",
    "\n",
    "    pair = cons(a,b)\n",
    "    return car(pair), cdr(pair)\n",
    "\n",
    "assert p5(1,2) == (1,2)"
   ]
  },
  {
   "cell_type": "code",
   "execution_count": 35,
   "metadata": {
    "pycharm": {
     "name": "#%%\n"
    }
   },
   "outputs": [
    {
     "data": {
      "text/plain": [
       "'\\ndef traverse(*head):\\n    Node *curr = head;  \\n    Node *prev = NULL;  \\n    Node *next;\\n    while (curr != NULL)  \\n    {  \\n        // print current node  \\n        cout<<curr->data<<\" \";  \\n  \\n        // get address of next node: \\n        // curr->npx is next^prev, so curr->npx^prev will be next\\n        next = XOR (prev, curr->npx);\\n  \\n        // update prev and curr for next iteration  \\n        prev = curr;  \\n        curr = next;  \\n    }  \\n    return None\\n'"
      ]
     },
     "execution_count": 35,
     "metadata": {},
     "output_type": "execute_result"
    }
   ],
   "source": [
    "# P6: XOR linked list\n",
    "\n",
    "class Node:\n",
    "    def __init__(self, val):\n",
    "        self.val = val\n",
    "        self.npx = None\n",
    "    \n",
    "\"\"\"\n",
    "def insert(**head_ref, data): # at beginning\n",
    "    Node *new_node = new Node();  \n",
    "    new_node->data = data;\n",
    "    new_node->npx = *head_ref;  \n",
    "  \n",
    "    if (*head_ref != NULL)  \n",
    "        (*head_ref)->npx = XOR(new_node, (*head_ref)->npx);  \n",
    "  \n",
    "    *head_ref = new_node;     \n",
    "    return None\n",
    "\"\"\"\n",
    "\n",
    "\"\"\"\n",
    "def traverse(*head):\n",
    "    Node *curr = head;  \n",
    "    Node *prev = NULL;  \n",
    "    Node *next;\n",
    "    while (curr != NULL)  \n",
    "    {  \n",
    "        // print current node  \n",
    "        cout<<curr->data<<\" \";  \n",
    "  \n",
    "        // get address of next node: \n",
    "        // curr->npx is next^prev, so curr->npx^prev will be next\n",
    "        next = XOR (prev, curr->npx);\n",
    "  \n",
    "        // update prev and curr for next iteration  \n",
    "        prev = curr;  \n",
    "        curr = next;  \n",
    "    }  \n",
    "    return None\n",
    "\"\"\""
   ]
  },
  {
   "cell_type": "code",
   "execution_count": 36,
   "metadata": {
    "pycharm": {
     "name": "#%%\n"
    }
   },
   "outputs": [],
   "source": [
    "# Decode Ways - given encoded msg, count number of ways it can be decoded\n",
    "\n",
    "def p7(s):\n",
    "    \n",
    "    \"\"\"\n",
    "    f(i) = ans till i\n",
    "    f(i) = sum of f(i-1) if s[i-1] is 1-9\n",
    "                  f(i-2) if s[i-2:i] is 10-26\n",
    "    f(0) = 1\n",
    "    f(1) = 1 if s[0] != '0' else 0\n",
    "    \"\"\"\n",
    "    def f(i):\n",
    "        if i == 0:\n",
    "            return 1\n",
    "        if i == 1:\n",
    "            return 1 if s[0] != '0' else 0\n",
    "        \n",
    "        if dp[i]!=-1:\n",
    "            return dp[i]\n",
    "        \n",
    "        res = 0\n",
    "        if 1 <= int(s[i-1]) <= 9:\n",
    "            res += f(i-1)\n",
    "        if 10 <= int(s[i-2:i]) <= 26:\n",
    "            res += f(i-2)\n",
    "        \n",
    "        dp[i] = res\n",
    "        return res\n",
    "    \n",
    "    dp = [-1]*(len(s)+1)\n",
    "    return f(len(s))\n",
    "\n",
    "assert p7('111') == 3"
   ]
  },
  {
   "cell_type": "code",
   "execution_count": 37,
   "metadata": {},
   "outputs": [],
   "source": [
    "# Unival trees - all nodes under it have same value\n",
    "\n",
    "class Node:\n",
    "    def __init__(self, val, left=None, right=None):\n",
    "        self.val = val\n",
    "        self.left = left\n",
    "        self.right = right\n",
    "    \n",
    "def p8(root):\n",
    "    \n",
    "    if not root:\n",
    "        return 0, None\n",
    "    if not root.left and not root.right:\n",
    "        return 1, root.val\n",
    "    \n",
    "    lc, lsval = p8(root.left)\n",
    "    rc, rsval = p8(root.right)\n",
    "    \n",
    "    if root.val == lsval == rsval:\n",
    "        return lc + rc + 1, root.val\n",
    "    else:\n",
    "        return lc + rc, None\n",
    "        \n",
    "assert p8(Node(0, Node(1), Node(0, Node(1, Node(1), Node(1)), Node(0))))[0] == 5"
   ]
  },
  {
   "cell_type": "code",
   "execution_count": 38,
   "metadata": {},
   "outputs": [],
   "source": [
    "# Largest sum of non-adjacent numbers\n",
    "\n",
    "def p9(nums):\n",
    "    \n",
    "    \"\"\"\n",
    "    f(i) = ans till i\n",
    "    f(i) = max(f(i-2) + val), f(i-1))\n",
    "    f(0) = val\n",
    "    \"\"\"\n",
    "    \n",
    "    def f(i):\n",
    "        \n",
    "        if i == 0:\n",
    "            return nums[i]\n",
    "        if i == 1:\n",
    "            return max(nums[0], nums[1])\n",
    "        if dp[i] != -1:\n",
    "            return dp[i]\n",
    "        \n",
    "        dp[i] = max(f(i-2)+nums[i], f(i-1))\n",
    "        return dp[i]\n",
    "        \n",
    "    dp = [-1]*len(nums)\n",
    "    return f(len(nums)-1)\n",
    "\n",
    "assert p9([2,4,6,8]) == 12\n"
   ]
  },
  {
   "cell_type": "code",
   "execution_count": 54,
   "metadata": {},
   "outputs": [],
   "source": [
    "# Task scheduler - [A,A,A,B,B,B] given tasks and 'cooldown' period return minimum time to complete all tasks\n",
    "import heapq\n",
    "\n",
    "def p10(arr, cooldown):\n",
    "    \n",
    "    # put in max heap by freq\n",
    "    heap = []\n",
    "    count = collections.Counter(arr)\n",
    "    for c in count:\n",
    "        heapq.heappush(heap, (-count[c], c))\n",
    "    \n",
    "    i = 0\n",
    "    res = 0\n",
    "    while heap:\n",
    "        level = []\n",
    "        k = cooldown+1\n",
    "        while heap and k:\n",
    "            top = heapq.heappop(heap)\n",
    "            level.append(top)\n",
    "            k -= 1\n",
    "            res += 1\n",
    "                    \n",
    "        for l in level:\n",
    "            if l[0]+1 < 0:\n",
    "                heapq.heappush(heap, (l[0]+1, l[1]))\n",
    "        \n",
    "        if not heap:\n",
    "            break\n",
    "\n",
    "        if k:\n",
    "            res += k\n",
    "    \n",
    "    return res\n",
    "    \n",
    "assert p10(['A','A','A','B','B','B'], 2) == 8\n"
   ]
  },
  {
   "cell_type": "code",
   "execution_count": 74,
   "metadata": {},
   "outputs": [
    {
     "name": "stdout",
     "output_type": "stream",
     "text": [
      "['cool', 'cooldown']\n"
     ]
    }
   ],
   "source": [
    "# Implement autocomplete system\n",
    "M = 26\n",
    "class TrieNode:\n",
    "    def __init__(self, is_eow=False):\n",
    "        self.children = [None]*M\n",
    "        self.is_eow = is_eow\n",
    "    \n",
    "    def insert(self, word):\n",
    "        root = self\n",
    "        for letter in word:\n",
    "            index = ord(letter) - ord('a')\n",
    "            if not root.children[index]:\n",
    "                root.children[index] = TrieNode()\n",
    "            root = root.children[index]\n",
    "        root.is_eow = True\n",
    "        \n",
    "    def search(self, word):\n",
    "        root = self\n",
    "        for letter in word:\n",
    "            index = ord(letter) - ord('a')\n",
    "            if not root.children[index]:\n",
    "                return False\n",
    "            root = root.children[index]\n",
    "        return root    \n",
    "        \n",
    "    def printWords(self, node, curr):\n",
    "        if not node:\n",
    "            return\n",
    "        \n",
    "        words = []\n",
    "        if node.is_eow:\n",
    "            words = [curr]\n",
    "        \n",
    "        for i in range(M):\n",
    "            c = chr(i + ord('a'))\n",
    "            word = self.printWords(node.children[i], curr + c)\n",
    "            if word:\n",
    "                words.extend(word)\n",
    "        return words\n",
    "        \n",
    "        \n",
    "    def autocomplete(self, prefix):\n",
    "        # search prefix\n",
    "        node = self.search(prefix)\n",
    "        return self.printWords(node, prefix)\n",
    "        \n",
    "\n",
    "trie = TrieNode()\n",
    "trie.insert('cool')\n",
    "trie.insert('cooldown')\n",
    "print(trie.autocomplete('c'))\n"
   ]
  },
  {
   "cell_type": "code",
   "execution_count": 112,
   "metadata": {},
   "outputs": [],
   "source": [
    "# Staircase unique ways to climb +1, +2 only\n",
    "\n",
    "def p12(n):\n",
    "    \n",
    "    def f(i):\n",
    "        if i < 0:\n",
    "            return 0\n",
    "        if i == 0:\n",
    "            return 1\n",
    "        \n",
    "        if dp[i]!=-1:\n",
    "            return dp[i]\n",
    "        \n",
    "        dp[i] = f(i-1) + f(i-2)\n",
    "        return dp[i]\n",
    "    \n",
    "    dp = [-1]*(n+1)\n",
    "    return f(n)\n",
    "        \n",
    "assert p11(4) == 5"
   ]
  },
  {
   "cell_type": "code",
   "execution_count": 114,
   "metadata": {},
   "outputs": [],
   "source": [
    "# Longest substring with k distinct chars\n",
    "\n",
    "# sliding window\n",
    "\n",
    "def p13(s, k):\n",
    "    \n",
    "    i, j = 0, 0\n",
    "    max_len = 0\n",
    "    dic = {}\n",
    "    while j < len(s):\n",
    "        \n",
    "        while len(dic) > k and i < j:\n",
    "            dic[s[i]] -= 1\n",
    "            if dic[s[i]] == 0:\n",
    "                del dic[s[i]]\n",
    "            i += 1\n",
    "        \n",
    "        dic[s[j]] = dic.get(s[j], 0) + 1\n",
    "        max_len = max(max_len, j-i)\n",
    "        j += 1\n",
    "        \n",
    "    return max_len\n",
    "    \n",
    "assert p13('abcba', 2) == 3"
   ]
  },
  {
   "cell_type": "code",
   "execution_count": 118,
   "metadata": {},
   "outputs": [],
   "source": [
    "# Estimate pi using Monte Carlo method\n",
    "import random\n",
    "def p14():\n",
    "    \n",
    "    total_points = 0\n",
    "    inside_points = 0\n",
    "    it = 100000\n",
    "    while it:\n",
    "        x = random.random()\n",
    "        y = random.random()\n",
    "        if x**2 + y**2 < 1:\n",
    "            inside_points += 1\n",
    "        total_points += 1\n",
    "        it -= 1\n",
    "    return 4 * inside_points / total_points"
   ]
  },
  {
   "cell_type": "code",
   "execution_count": 119,
   "metadata": {},
   "outputs": [
    {
     "data": {
      "text/plain": [
       "3.14064"
      ]
     },
     "execution_count": 119,
     "metadata": {},
     "output_type": "execute_result"
    }
   ],
   "source": [
    "# Pick random element from Stream with uniform probability\n",
    "\n",
    "def p15():\n",
    "    \n",
    "    "
   ]
  },
  {
   "cell_type": "code",
   "execution_count": null,
   "metadata": {},
   "outputs": [],
   "source": []
  }
 ],
 "metadata": {
  "kernelspec": {
   "display_name": "Python 3",
   "language": "python",
   "name": "python3"
  },
  "language_info": {
   "codemirror_mode": {
    "name": "ipython",
    "version": 3
   },
   "file_extension": ".py",
   "mimetype": "text/x-python",
   "name": "python",
   "nbconvert_exporter": "python",
   "pygments_lexer": "ipython3",
   "version": "3.7.6"
  }
 },
 "nbformat": 4,
 "nbformat_minor": 1
}
